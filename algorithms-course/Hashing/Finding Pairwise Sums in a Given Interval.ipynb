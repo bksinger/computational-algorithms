{
 "cells": [
  {
   "cell_type": "markdown",
   "metadata": {},
   "source": [
    "## Algorithm that is used to count the number of instances a sum of two numbers in a set lies in a given interval of two integers\n",
    "Mathematically speaking, given a set S and an interval I={n1, n1+1, ..., n2}, the algorithm aims to count how many of the n2-n1+1 integers given in I are found by summing two elements in S\n",
    "\n",
    "Example: S = {-1,0,2} and I={0,1,2} --> I0=0 cannot be obtained from any combination of Si and Sj where i is not equal to j; I0 = 1 can be obtained by adding  S0 and S2; I1=2 can be obtained by adding S1 and S2. Thus the final count is 2"
   ]
  },
  {
   "cell_type": "code",
   "execution_count": 1,
   "metadata": {},
   "outputs": [],
   "source": [
    "import time"
   ]
  },
  {
   "cell_type": "code",
   "execution_count": 2,
   "metadata": {},
   "outputs": [],
   "source": [
    "def return_data(filename):\n",
    "    file = open(filename)\n",
    "    lines = file.read().splitlines()\n",
    "    file.close()\n",
    "    data = list(map(lambda x: int(x), lines))\n",
    "    data = sorted(data)\n",
    "    \n",
    "    data = deduplicate(data)\n",
    "    return data"
   ]
  },
  {
   "cell_type": "code",
   "execution_count": 3,
   "metadata": {},
   "outputs": [],
   "source": [
    "def deduplicate(sorted_data):\n",
    "    deduplicated_data=[]\n",
    "    length_sorted_data = len(sorted_data)\n",
    "    for i in range(0,length_sorted_data):\n",
    "        if i == 0:\n",
    "            deduplicated_data.append(sorted_data[i])\n",
    "        else:\n",
    "            if sorted_data[i] > sorted_data[i-1]:\n",
    "                deduplicated_data.append(sorted_data[i])\n",
    "                \n",
    "    return deduplicated_data"
   ]
  },
  {
   "cell_type": "code",
   "execution_count": 4,
   "metadata": {},
   "outputs": [],
   "source": [
    "def get_t_count(sorted_deduplicated_data, t_min, t_max):\n",
    "    n = len(sorted_deduplicated_data)\n",
    "    data_hash = {}\n",
    "    for i in range(0,n):\n",
    "        data_hash[sorted_deduplicated_data[i]] = i\n",
    "    \n",
    "    t_counter = 0\n",
    "    iteration = 0\n",
    "    time_elapsed = 0\n",
    "    step = 200\n",
    "    for t in range(t_min,t_max+1):\n",
    "        temp_hash = data_hash.copy()\n",
    "        start = time.time()\n",
    "        for d in data_hash:\n",
    "            if (d in temp_hash) and (t-d in temp_hash) and (t != 0 or t != d):            \n",
    "                t_counter += 1\n",
    "                del temp_hash[d]\n",
    "                del temp_hash[t-d]\n",
    "                break\n",
    "                \n",
    "        iteration += 1\n",
    "        finish = time.time()\n",
    "        time_elapsed += finish - start\n",
    "        if iteration % step == 0:\n",
    "            progress = iteration/(t_max-t_min+1)\n",
    "            print(\"{:.1%}\".format(progress), \" complete\", t_counter, \n",
    "                  \" results so far. Time elapsed = \", round(time_elapsed,2), \" seconds\")\n",
    "\n",
    "    print(\"Counter=\", t_counter)\n",
    "    return(t_counter)"
   ]
  },
  {
   "cell_type": "code",
   "execution_count": 5,
   "metadata": {},
   "outputs": [
    {
     "name": "stdout",
     "output_type": "stream",
     "text": [
      "1.0%  complete 4  results so far. Time elapsed =  69.18  seconds\n",
      "2.0%  complete 8  results so far. Time elapsed =  137.81  seconds\n",
      "3.0%  complete 14  results so far. Time elapsed =  207.47  seconds\n",
      "4.0%  complete 18  results so far. Time elapsed =  276.4  seconds\n",
      "5.0%  complete 22  results so far. Time elapsed =  348.86  seconds\n",
      "6.0%  complete 26  results so far. Time elapsed =  419.3  seconds\n",
      "7.0%  complete 30  results so far. Time elapsed =  489.66  seconds\n",
      "8.0%  complete 34  results so far. Time elapsed =  558.63  seconds\n",
      "9.0%  complete 38  results so far. Time elapsed =  629.12  seconds\n",
      "10.0%  complete 44  results so far. Time elapsed =  700.73  seconds\n",
      "11.0%  complete 48  results so far. Time elapsed =  770.8  seconds\n",
      "12.0%  complete 52  results so far. Time elapsed =  843.67  seconds\n",
      "13.0%  complete 56  results so far. Time elapsed =  913.28  seconds\n",
      "14.0%  complete 60  results so far. Time elapsed =  990.97  seconds\n",
      "15.0%  complete 64  results so far. Time elapsed =  1060.57  seconds\n",
      "16.0%  complete 68  results so far. Time elapsed =  1129.25  seconds\n",
      "17.0%  complete 74  results so far. Time elapsed =  1197.63  seconds\n",
      "18.0%  complete 78  results so far. Time elapsed =  1266.7  seconds\n",
      "19.0%  complete 81  results so far. Time elapsed =  1344.29  seconds\n",
      "20.0%  complete 85  results so far. Time elapsed =  1414.17  seconds\n",
      "21.0%  complete 89  results so far. Time elapsed =  1485.02  seconds\n",
      "22.0%  complete 93  results so far. Time elapsed =  1554.07  seconds\n",
      "23.0%  complete 99  results so far. Time elapsed =  1624.75  seconds\n",
      "24.0%  complete 103  results so far. Time elapsed =  1698.58  seconds\n",
      "25.0%  complete 107  results so far. Time elapsed =  1770.59  seconds\n",
      "26.0%  complete 111  results so far. Time elapsed =  1845.78  seconds\n",
      "27.0%  complete 115  results so far. Time elapsed =  1919.39  seconds\n",
      "28.0%  complete 119  results so far. Time elapsed =  1993.19  seconds\n",
      "29.0%  complete 123  results so far. Time elapsed =  2064.05  seconds\n",
      "30.0%  complete 129  results so far. Time elapsed =  2137.03  seconds\n",
      "31.0%  complete 133  results so far. Time elapsed =  2210.92  seconds\n",
      "32.0%  complete 137  results so far. Time elapsed =  2286.35  seconds\n",
      "33.0%  complete 141  results so far. Time elapsed =  2360.94  seconds\n",
      "34.0%  complete 145  results so far. Time elapsed =  2433.84  seconds\n",
      "35.0%  complete 149  results so far. Time elapsed =  2505.96  seconds\n",
      "36.0%  complete 153  results so far. Time elapsed =  2578.96  seconds\n",
      "37.0%  complete 159  results so far. Time elapsed =  2649.05  seconds\n",
      "38.0%  complete 163  results so far. Time elapsed =  2721.05  seconds\n",
      "39.0%  complete 167  results so far. Time elapsed =  2792.64  seconds\n",
      "40.0%  complete 171  results so far. Time elapsed =  2861.67  seconds\n",
      "41.0%  complete 175  results so far. Time elapsed =  2932.11  seconds\n",
      "42.0%  complete 179  results so far. Time elapsed =  3003.9  seconds\n",
      "43.0%  complete 183  results so far. Time elapsed =  3075.77  seconds\n",
      "44.0%  complete 189  results so far. Time elapsed =  3144.91  seconds\n",
      "45.0%  complete 193  results so far. Time elapsed =  3213.84  seconds\n",
      "46.0%  complete 197  results so far. Time elapsed =  3283.11  seconds\n",
      "47.0%  complete 201  results so far. Time elapsed =  3354.57  seconds\n",
      "48.0%  complete 205  results so far. Time elapsed =  3424.69  seconds\n",
      "49.0%  complete 209  results so far. Time elapsed =  3493.34  seconds\n",
      "50.0%  complete 214  results so far. Time elapsed =  3565.98  seconds\n",
      "51.0%  complete 218  results so far. Time elapsed =  3635.42  seconds\n",
      "52.0%  complete 222  results so far. Time elapsed =  3704.45  seconds\n",
      "53.0%  complete 226  results so far. Time elapsed =  3775.5  seconds\n",
      "54.0%  complete 230  results so far. Time elapsed =  3845.25  seconds\n",
      "55.0%  complete 234  results so far. Time elapsed =  3914.49  seconds\n",
      "56.0%  complete 238  results so far. Time elapsed =  3983.01  seconds\n",
      "57.0%  complete 244  results so far. Time elapsed =  4050.73  seconds\n",
      "58.0%  complete 248  results so far. Time elapsed =  4119.76  seconds\n",
      "59.0%  complete 252  results so far. Time elapsed =  4190.62  seconds\n",
      "60.0%  complete 256  results so far. Time elapsed =  4260.9  seconds\n",
      "61.0%  complete 260  results so far. Time elapsed =  4332.62  seconds\n",
      "62.0%  complete 264  results so far. Time elapsed =  4403.5  seconds\n",
      "63.0%  complete 268  results so far. Time elapsed =  4473.28  seconds\n",
      "64.0%  complete 274  results so far. Time elapsed =  4541.46  seconds\n",
      "65.0%  complete 278  results so far. Time elapsed =  4609.6  seconds\n",
      "66.0%  complete 282  results so far. Time elapsed =  4677.97  seconds\n",
      "67.0%  complete 286  results so far. Time elapsed =  4747.1  seconds\n",
      "68.0%  complete 290  results so far. Time elapsed =  4815.7  seconds\n",
      "69.0%  complete 294  results so far. Time elapsed =  4885.81  seconds\n",
      "70.0%  complete 298  results so far. Time elapsed =  4956.58  seconds\n",
      "71.0%  complete 304  results so far. Time elapsed =  5027.14  seconds\n",
      "72.0%  complete 308  results so far. Time elapsed =  5098.56  seconds\n",
      "73.0%  complete 312  results so far. Time elapsed =  5169.24  seconds\n",
      "74.0%  complete 316  results so far. Time elapsed =  5238.27  seconds\n",
      "75.0%  complete 320  results so far. Time elapsed =  5308.39  seconds\n",
      "76.0%  complete 324  results so far. Time elapsed =  5378.5  seconds\n",
      "77.0%  complete 328  results so far. Time elapsed =  5448.98  seconds\n",
      "78.0%  complete 334  results so far. Time elapsed =  5519.58  seconds\n",
      "79.0%  complete 338  results so far. Time elapsed =  5590.3  seconds\n",
      "80.0%  complete 342  results so far. Time elapsed =  5660.02  seconds\n",
      "81.0%  complete 346  results so far. Time elapsed =  5729.58  seconds\n",
      "82.0%  complete 349  results so far. Time elapsed =  5799.99  seconds\n",
      "83.0%  complete 353  results so far. Time elapsed =  5870.22  seconds\n",
      "84.0%  complete 359  results so far. Time elapsed =  5940.26  seconds\n",
      "85.0%  complete 363  results so far. Time elapsed =  6009.96  seconds\n",
      "86.0%  complete 367  results so far. Time elapsed =  6080.76  seconds\n",
      "87.0%  complete 371  results so far. Time elapsed =  6151.6  seconds\n",
      "88.0%  complete 375  results so far. Time elapsed =  6221.97  seconds\n",
      "89.0%  complete 379  results so far. Time elapsed =  6291.99  seconds\n",
      "90.0%  complete 383  results so far. Time elapsed =  6362.72  seconds\n",
      "91.0%  complete 389  results so far. Time elapsed =  6431.55  seconds\n",
      "92.0%  complete 393  results so far. Time elapsed =  6502.47  seconds\n",
      "93.0%  complete 397  results so far. Time elapsed =  6572.98  seconds\n",
      "94.0%  complete 401  results so far. Time elapsed =  6641.95  seconds\n",
      "95.0%  complete 405  results so far. Time elapsed =  6711.78  seconds\n",
      "96.0%  complete 409  results so far. Time elapsed =  6780.72  seconds\n",
      "97.0%  complete 413  results so far. Time elapsed =  6849.82  seconds\n",
      "98.0%  complete 419  results so far. Time elapsed =  6917.59  seconds\n",
      "99.0%  complete 423  results so far. Time elapsed =  6987.41  seconds\n",
      "100.0%  complete 427  results so far. Time elapsed =  7057.94  seconds\n",
      "Counter= 427\n"
     ]
    },
    {
     "data": {
      "text/plain": [
       "427"
      ]
     },
     "execution_count": 5,
     "metadata": {},
     "output_type": "execute_result"
    }
   ],
   "source": [
    "filename = \"algo1-programming_prob-2sum.txt\"\n",
    "t_min = -10000\n",
    "t_max = 10000\n",
    "sorted_deduplicated_data = return_data(filename)\n",
    "get_t_count(sorted_deduplicated_data, t_min, t_max)"
   ]
  },
  {
   "cell_type": "code",
   "execution_count": null,
   "metadata": {},
   "outputs": [],
   "source": []
  }
 ],
 "metadata": {
  "kernelspec": {
   "display_name": "Python 3",
   "language": "python",
   "name": "python3"
  },
  "language_info": {
   "codemirror_mode": {
    "name": "ipython",
    "version": 3
   },
   "file_extension": ".py",
   "mimetype": "text/x-python",
   "name": "python",
   "nbconvert_exporter": "python",
   "pygments_lexer": "ipython3",
   "version": "3.6.4"
  }
 },
 "nbformat": 4,
 "nbformat_minor": 2
}
