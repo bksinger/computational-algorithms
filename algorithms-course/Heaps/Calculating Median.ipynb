{
 "cells": [
  {
   "cell_type": "markdown",
   "metadata": {},
   "source": [
    "###The goal of this problem is to implement the \"Median Maintenance\" algorithm (covered in the Week 3 lecture on heap applications). The text file contains a list of the integers from 1 to 10000 in unsorted order; you should treat this as a stream of numbers, arriving one by one. Letting xi denote the ith number of the file, the kth median mk is defined as the median of the numbers x1,…,xk. (So, if k is odd, then mk is ((k+1)/2)th smallest number among x1,…,xk; if k is even, then mk is the (k/2)th smallest number among x1,…,xk.)\n",
    "\n",
    "In the box below you should type the sum of these 10000 medians, modulo 10000 (i.e., only the last 4 digits). That is, you should compute (m1+m2+m3+⋯+m10000)mod10000. "
   ]
  },
  {
   "cell_type": "code",
   "execution_count": 3,
   "metadata": {
    "collapsed": true
   },
   "outputs": [],
   "source": [
    "from heapq import heappush, heappop\n",
    "import numpy as np"
   ]
  },
  {
   "cell_type": "code",
   "execution_count": 6,
   "metadata": {
    "collapsed": false
   },
   "outputs": [],
   "source": [
    "class simple_heap:\n",
    "    def __init__(self):\n",
    "        self.heap = []\n",
    "        self.length = 0\n",
    "        \n",
    "    def get_child(self,h,parent):\n",
    "        child1 = 2 * (parent + 1) - 1\n",
    "        child2 = 2 * (parent + 1)\n",
    "        \n",
    "        if child1 < h.length - 1:\n",
    "            if h.heap[child1] > h.heap[child2]:\n",
    "                child = child2\n",
    "            elif h.heap[child1] == h.heap[child2]:\n",
    "                grandchild11 = 2 * (child1 + 1) - 1\n",
    "                grandchild12 = 2 * (child1 + 1)\n",
    "                grandchild21 = 2 * (child2 + 1) - 1\n",
    "                grandchild22 = 2 * (child2 + 1)\n",
    "                if grandchild11 > h.length - 1: \n",
    "                    # Scenario: Balanced heap for both children (no children exist for children nodes)\n",
    "                    child = child2\n",
    "                elif grandchild12 <= h.length - 1 and grandchild21 > h.length - 1:\n",
    "                    # Scenario: Unbalanced heap (left child has children, while right child doesn't)\n",
    "                    # thus, go to child with no children for simplicity\n",
    "                    child = child2\n",
    "                else: # The case that both children have two children each\n",
    "                    final_descendant_left = grandchild11\n",
    "                    final_descendant_left_right = grandchild12\n",
    "                    \n",
    "                    child = child1\n",
    "                    # Check if left child is completely balanced\n",
    "                    while final_descendant_left_right <= h.length - 1:\n",
    "                        final_descendant_left = 2 * (final_descendant_left + 1) - 1\n",
    "                        final_descendant_left_right = 2 * (final_descendant_left_right + 1)\n",
    "\n",
    "                        if final_descendant_left_right > h.length - 1 and final_descendant_left > h.length - 1:\n",
    "                            child = child2\n",
    "            else:\n",
    "                child = child1\n",
    "                    \n",
    "        elif child1 == h.length - 1:\n",
    "            child = child1 # Child 2 is null\n",
    "        else:\n",
    "            child = h.length # out of range\n",
    "\n",
    "        return child\n",
    "        \n",
    "        \n",
    "    def pop(self):\n",
    "        if self.length == 0:\n",
    "            return None\n",
    "        elif self.length == 1 or self.length == 2:\n",
    "            self.length -= 1\n",
    "            return self.heap.pop(0)\n",
    "        elif self.length == 5: \n",
    "            # A strange case where removing the right node of the heap will make it imbalanced\n",
    "            x = self.heap[0]\n",
    "            self.heap[0] = self.heap[4]\n",
    "            self.heap[4] = x\n",
    "            self.heap.pop(4)\n",
    "            self.length = 4\n",
    "\n",
    "            if self.heap[0] > min(self.heap[1],self.heap[2]):\n",
    "                if self.heap[1] < self.heap[2]: # Go to left child\n",
    "                    temp = self.heap[0]\n",
    "                    self.heap[0] = self.heap[1]\n",
    "                    self.heap[1] = temp\n",
    "                    if self.heap[1] > self.heap[3]:\n",
    "                        temp = self.heap[1]\n",
    "                        self.heap[1] = self.heap[3]\n",
    "                        self.heap[3] = temp\n",
    "                else: # Go to right child\n",
    "                    temp = self.heap[0]\n",
    "                    self.heap[0] = self.heap[2]\n",
    "                    self.heap[2] = temp\n",
    "            return x\n",
    "        else:\n",
    "\n",
    "            x = self.heap[0]\n",
    "            self.heap[0] = self.heap[self.length - 1]\n",
    "            self.heap[self.length - 1] = x\n",
    "            self.heap.pop()\n",
    "            self.length -= 1\n",
    "            \n",
    "            if self.length == 2:\n",
    "                if self.heap[0] > self.heap[1]:\n",
    "                    temp = self.heap[0]\n",
    "                    self.heap[0] = self.heap[1]\n",
    "                    self.heap[1] = temp\n",
    "            else:\n",
    "                parent = 0\n",
    "                child = self.get_child(self,parent)\n",
    "                \n",
    "                while self.heap[child] < self.heap[parent]:\n",
    "                    temp = self.heap[child]\n",
    "                    self.heap[child] = self.heap[parent]\n",
    "                    self.heap[parent] = temp\n",
    "                    parent = child\n",
    "                    child = self.get_child(self,parent)\n",
    "\n",
    "                    if child > self.length - 1:\n",
    "                        break\n",
    "            return x\n",
    "        \n",
    "    def push(self,x):\n",
    "        if self.length == 0:\n",
    "            self.heap.append(x)\n",
    "            self.length = 1\n",
    "        elif self.length == 1:\n",
    "            if self.heap[0] > x:\n",
    "                self.heap.insert(0,x)\n",
    "            else:\n",
    "                self.heap.append(x)\n",
    "            self.length = 2\n",
    "        else:\n",
    "            self.heap.append(x)\n",
    "            self.length += 1\n",
    "            child = self.length - 1\n",
    "            parent = int((child+1)/2) - 1\n",
    "\n",
    "            while self.heap[parent] > self.heap[child]:\n",
    "                temp = self.heap[parent]\n",
    "                self.heap[parent] = self.heap[child]\n",
    "                self.heap[child] = temp\n",
    "\n",
    "                if parent > 0:\n",
    "                    child = parent\n",
    "                    parent = int((parent+1)/2) - 1"
   ]
  },
  {
   "cell_type": "code",
   "execution_count": 7,
   "metadata": {
    "collapsed": false
   },
   "outputs": [
    {
     "name": "stdout",
     "output_type": "stream",
     "text": [
      "y heap before:  [-5, -3, -5, -1, -2, -4, -1]\n",
      "y heap after:  [-5, -3, -4, -1, -2, -1]\n",
      "x heap before [-5, -3, -5, -1, -2, -4, -1]\n",
      "x heap after [-5, -3, -4, -1, -2, -1]\n",
      " x == y:  True\n"
     ]
    }
   ],
   "source": [
    "x = simple_heap()\n",
    "y = []\n",
    "d = [-5, -3, -5, -1, -2, -4, -1]\n",
    "for i in range(0,len(d)):\n",
    "    x.push(d[i])\n",
    "    heappush(y,d[i])\n",
    "    \n",
    "print(\"y heap before: \", y)\n",
    "heappop(y)\n",
    "print(\"y heap after: \", y)\n",
    "\n",
    "print(\"x heap before\", x.heap)\n",
    "x.pop()\n",
    "print(\"x heap after\", x.heap)\n",
    "print(\" x == y: \", y == x.heap)"
   ]
  },
  {
   "cell_type": "code",
   "execution_count": 8,
   "metadata": {
    "collapsed": false
   },
   "outputs": [],
   "source": [
    "def Median_sum_modulo_efficient_tailored_test(data):\n",
    "    heap_low = simple_heap()\n",
    "    heap_high = simple_heap()\n",
    "    m = []\n",
    "    sum_m = 0\n",
    "    len_data = 0\n",
    "    for i in data:\n",
    "        len_data += 1\n",
    "        if len_data == 1:\n",
    "            print(\"Heap_low before push (len = 1): \", heap_low.heap, \", i = \", i)\n",
    "            heap_low.push(-i)\n",
    "            print(\"Heap_low after push: \", heap_low.heap)\n",
    "        else:\n",
    "            if  i <= -heap_low.heap[0]:\n",
    "                print(\"Heap_low before push (i < h[0]): \", heap_low.heap, \", i = \", i)\n",
    "                heap_low.push(-i)\n",
    "                print(\"Heap_low after push: \", heap_low.heap)\n",
    "            else:\n",
    "                print(\"Heap_high before push: \", heap_high.heap, \", i = \", i)\n",
    "                heap_high.push(i)\n",
    "                print(\"Heap_high after push: \", heap_high.heap)\n",
    "            # Next two if statement ensure that the heaps are balanced with low heap at most one extra\n",
    "            # item more than the high heap. No need to use loops here since we are iterating one datum\n",
    "            # at a time\n",
    "            if heap_low.length < heap_high.length:\n",
    "                print(\"Heap_low before push (heap_high.pop): \", heap_low.heap, \", heap_high\", heap_high.heap)\n",
    "                heap_low.push(-heap_high.pop())\n",
    "                print(\"Heap_low after push (heap_high.pop): \", heap_low.heap, \", heap_high\", heap_high.heap)\n",
    "\n",
    "            elif heap_low.length > heap_high.length + 1: # We want low heap to be at most one item more than high heap\n",
    "                print(\"Heap_high before push (heap_low.pop): \", heap_high.heap, \", heap_low\", heap_low.heap)\n",
    "                heap_high.push(-heap_low.pop())\n",
    "                print(\"Heap_high before push (heap_low.pop): \", heap_high.heap, \", heap_low\", heap_low.heap)\n",
    "        \n",
    "        median = -heap_low.heap[0]\n",
    "        \n",
    "        m.append(median)\n",
    "        sum_m += median\n",
    "    print(\"Heap_low = \", heap_low.heap)\n",
    "    print(\"Heap_high = \", heap_high.heap)\n",
    "    print(\"Median_Tailored = \", m)\n",
    "    return sum_m%len_data"
   ]
  },
  {
   "cell_type": "code",
   "execution_count": 9,
   "metadata": {
    "collapsed": false
   },
   "outputs": [],
   "source": [
    "def Median_sum_modulo_efficient_test(data):\n",
    "    \n",
    "    heap_low = []\n",
    "    heap_high = []\n",
    "    m = []\n",
    "    sum_m = 0\n",
    "    len_data = 0\n",
    "    len_heap_low = 0\n",
    "    len_heap_high = 0\n",
    "    for i in data:\n",
    "        len_data += 1\n",
    "        if len_data == 1:\n",
    "            print(\"Heap_low before push (len = 1): \", heap_low, \", i = \", i)\n",
    "            heappush(heap_low,-i)\n",
    "            len_heap_low += 1\n",
    "            print(\"Heap_low after push: \", heap_low)\n",
    "            \n",
    "        else:\n",
    "            if  i <= -heap_low[0]:\n",
    "                print(\"Heap_low before push (i < h[0]): \", heap_low, \", i = \", i)\n",
    "                heappush(heap_low,-i)\n",
    "                len_heap_low += 1\n",
    "                print(\"Heap_low after push: \", heap_low)\n",
    "\n",
    "            else:\n",
    "                print(\"Heap_high before push: \", heap_high, \", i = \", i)\n",
    "                heappush(heap_high,i)\n",
    "                len_heap_high += 1\n",
    "                print(\"Heap_high after push: \", heap_high)\n",
    "\n",
    "            # Next two if statement ensure that the heaps are balanced with low heap at most one extra\n",
    "            # item more than the high heap. No need to use loops here since we are iterating one datum\n",
    "            # at a time\n",
    "            if len_heap_low < len_heap_high:\n",
    "                print(\"Heap_low before push (heap_high.pop): \", heap_low, \", heap_high\", heap_high)\n",
    "                heappush(heap_low,-heappop(heap_high))\n",
    "                len_heap_low += 1\n",
    "                len_heap_high -= 1\n",
    "                print(\"Heap_low after push (heap_high.pop): \", heap_low, \", heap_high\", heap_high)\n",
    "                \n",
    "\n",
    "            elif len_heap_low > len_heap_high +1: # We want low heap to be at most one item more than high heap\n",
    "                print(\"Heap_high before push (heap_low.pop): \", heap_high, \", heap_low\", heap_low)\n",
    "                heappush(heap_high,-heappop(heap_low))\n",
    "                len_heap_low -= 1\n",
    "                len_heap_high += 1\n",
    "                print(\"Heap_high after push (heap_low.pop): \", heap_high, \", heap_low\", heap_low)\n",
    "        \n",
    "        median = -heap_low[0]\n",
    "        \n",
    "        m.append(median)\n",
    "        sum_m += median\n",
    "    print(\"Heap_low = \", heap_low)\n",
    "    print(\"Heap_high = \", heap_high)\n",
    "    print(\"Median_Original = \", m)\n",
    "    return sum_m%len_data"
   ]
  },
  {
   "cell_type": "code",
   "execution_count": 10,
   "metadata": {
    "collapsed": true
   },
   "outputs": [],
   "source": [
    "def Median_sum_modulo_efficient_tailored(data):\n",
    "    heap_low = simple_heap()\n",
    "    heap_high = simple_heap()\n",
    "    m = []\n",
    "    sum_m = 0\n",
    "    len_data = 0\n",
    "    for i in data:\n",
    "        len_data += 1\n",
    "        if len_data == 1:\n",
    "            heap_low.push(-i)\n",
    "        else:\n",
    "            if  i <= -heap_low.heap[0]:\n",
    "                heap_low.push(-i)\n",
    "            else:\n",
    "                heap_high.push(i)\n",
    "            # Next two if statement ensure that the heaps are balanced with low heap at most one extra\n",
    "            # item more than the high heap. No need to use loops here since we are iterating one datum\n",
    "            # at a time\n",
    "            if heap_low.length < heap_high.length:\n",
    "                heap_low.push(-heap_high.pop())\n",
    "\n",
    "            elif heap_low.length > heap_high.length + 1: # We want low heap to be at most one item more than high heap\n",
    "                heap_high.push(-heap_low.pop())\n",
    "        \n",
    "        median = -heap_low.heap[0]\n",
    "        \n",
    "        m.append(median)\n",
    "        sum_m += median\n",
    "\n",
    "    return sum_m%len_data"
   ]
  },
  {
   "cell_type": "code",
   "execution_count": 11,
   "metadata": {
    "collapsed": true
   },
   "outputs": [],
   "source": [
    "def Median_sum_modulo_efficient(data):\n",
    "    \n",
    "    heap_low = []\n",
    "    heap_high = []\n",
    "    m = []\n",
    "    sum_m = 0\n",
    "    len_data = 0\n",
    "    len_heap_low = 0\n",
    "    len_heap_high = 0\n",
    "    for i in data:\n",
    "        len_data += 1\n",
    "        if len_data == 1:\n",
    "            heappush(heap_low,-i)\n",
    "            len_heap_low += 1\n",
    "            \n",
    "        else:\n",
    "            if  i <= -heap_low[0]:\n",
    "                heappush(heap_low,-i)\n",
    "                len_heap_low += 1\n",
    "\n",
    "            else:\n",
    "                heappush(heap_high,i)\n",
    "                len_heap_high += 1\n",
    "\n",
    "            # Next two if statement ensure that the heaps are balanced with low heap at most one extra\n",
    "            # item more than the high heap. No need to use loops here since we are iterating one datum\n",
    "            # at a time\n",
    "            if len_heap_low < len_heap_high:\n",
    "                heappush(heap_low,-heappop(heap_high))\n",
    "                len_heap_low += 1\n",
    "                len_heap_high -= 1\n",
    "                \n",
    "\n",
    "            elif len_heap_low > len_heap_high +1: # We want low heap to be at most one item more than high heap\n",
    "                heappush(heap_high,-heappop(heap_low))\n",
    "                len_heap_low -= 1\n",
    "                len_heap_high += 1\n",
    "        \n",
    "        median = -heap_low[0]\n",
    "        \n",
    "        m.append(median)\n",
    "        sum_m += median\n",
    "\n",
    "    return sum_m%len_data"
   ]
  },
  {
   "cell_type": "code",
   "execution_count": 13,
   "metadata": {
    "collapsed": false
   },
   "outputs": [
    {
     "name": "stdout",
     "output_type": "stream",
     "text": [
      "counter =  0\n",
      "d =  []\n"
     ]
    },
    {
     "data": {
      "text/plain": [
       "[]"
      ]
     },
     "execution_count": 13,
     "metadata": {},
     "output_type": "execute_result"
    }
   ],
   "source": [
    "d = []\n",
    "counter = 0\n",
    "for i in range(0,10000):\n",
    "    data = np.random.randint(10,size=50)\n",
    "    if Median_sum_modulo_efficient_tailored(data) != Median_sum_modulo_efficient(data):\n",
    "        d = data\n",
    "        counter += 1\n",
    "print(\"counter = \", counter)\n",
    "print(\"d = \", d)\n",
    "d"
   ]
  },
  {
   "cell_type": "code",
   "execution_count": 14,
   "metadata": {
    "collapsed": false
   },
   "outputs": [],
   "source": [
    "file = open(\"Median.txt\")\n",
    "lines = file.read().splitlines()\n",
    "file.close()\n",
    "data = list(map(lambda x: int(x), lines))\n",
    "#data = d\n",
    "#data"
   ]
  },
  {
   "cell_type": "code",
   "execution_count": 15,
   "metadata": {
    "collapsed": false
   },
   "outputs": [
    {
     "name": "stdout",
     "output_type": "stream",
     "text": [
      "Tailored:  1213\n"
     ]
    }
   ],
   "source": [
    "print(\"Tailored: \", Median_sum_modulo_efficient_tailored(data))"
   ]
  },
  {
   "cell_type": "code",
   "execution_count": 16,
   "metadata": {
    "collapsed": false
   },
   "outputs": [
    {
     "name": "stdout",
     "output_type": "stream",
     "text": [
      "Original:  1213\n"
     ]
    }
   ],
   "source": [
    "print(\"Original: \", Median_sum_modulo_efficient(data))"
   ]
  },
  {
   "cell_type": "code",
   "execution_count": null,
   "metadata": {
    "collapsed": true
   },
   "outputs": [],
   "source": []
  }
 ],
 "metadata": {
  "kernelspec": {
   "display_name": "Python 3",
   "language": "python",
   "name": "python3"
  },
  "language_info": {
   "codemirror_mode": {
    "name": "ipython",
    "version": 3
   },
   "file_extension": ".py",
   "mimetype": "text/x-python",
   "name": "python",
   "nbconvert_exporter": "python",
   "pygments_lexer": "ipython3",
   "version": "3.6.0"
  }
 },
 "nbformat": 4,
 "nbformat_minor": 2
}
